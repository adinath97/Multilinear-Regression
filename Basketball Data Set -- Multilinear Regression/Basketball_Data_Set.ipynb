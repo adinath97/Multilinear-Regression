{
 "cells": [
  {
   "cell_type": "markdown",
   "id": "74ccafba-71ac-48de-aa0c-1895ea2a5ffd",
   "metadata": {},
   "source": [
    "### Import Key Libraries"
   ]
  },
  {
   "cell_type": "code",
   "execution_count": 56,
   "id": "d78ff14d-6895-41b5-b212-696ad247f804",
   "metadata": {},
   "outputs": [],
   "source": [
    "import pandas as pd\n",
    "import numpy as np\n",
    "import matplotlib.pyplot as plt\n",
    "from sklearn.linear_model import LinearRegression\n",
    "import seaborn as sns \n",
    "from sklearn.model_selection import train_test_split\n",
    "from sklearn.metrics import r2_score\n",
    "from sklearn import linear_model\n",
    "\n",
    "%matplotlib inline"
   ]
  },
  {
   "cell_type": "code",
   "execution_count": 57,
   "id": "8c9386df-857b-46f1-96d0-702305873f35",
   "metadata": {},
   "outputs": [
    {
     "data": {
      "text/html": [
       "<div>\n",
       "<style scoped>\n",
       "    .dataframe tbody tr th:only-of-type {\n",
       "        vertical-align: middle;\n",
       "    }\n",
       "\n",
       "    .dataframe tbody tr th {\n",
       "        vertical-align: top;\n",
       "    }\n",
       "\n",
       "    .dataframe thead th {\n",
       "        text-align: right;\n",
       "    }\n",
       "</style>\n",
       "<table border=\"1\" class=\"dataframe\">\n",
       "  <thead>\n",
       "    <tr style=\"text-align: right;\">\n",
       "      <th></th>\n",
       "      <th>Height (ft)</th>\n",
       "      <th>Weight (lbs)</th>\n",
       "      <th>Successful Field Goals (%)</th>\n",
       "      <th>Successful Free Throws (%)</th>\n",
       "      <th>Average Points Per Game</th>\n",
       "    </tr>\n",
       "  </thead>\n",
       "  <tbody>\n",
       "    <tr>\n",
       "      <th>1</th>\n",
       "      <td>6.8</td>\n",
       "      <td>225</td>\n",
       "      <td>0.442</td>\n",
       "      <td>0.672</td>\n",
       "      <td>9.2</td>\n",
       "    </tr>\n",
       "    <tr>\n",
       "      <th>2</th>\n",
       "      <td>6.3</td>\n",
       "      <td>180</td>\n",
       "      <td>0.435</td>\n",
       "      <td>0.797</td>\n",
       "      <td>11.7</td>\n",
       "    </tr>\n",
       "    <tr>\n",
       "      <th>3</th>\n",
       "      <td>6.4</td>\n",
       "      <td>190</td>\n",
       "      <td>0.456</td>\n",
       "      <td>0.761</td>\n",
       "      <td>15.8</td>\n",
       "    </tr>\n",
       "    <tr>\n",
       "      <th>4</th>\n",
       "      <td>6.2</td>\n",
       "      <td>180</td>\n",
       "      <td>0.416</td>\n",
       "      <td>0.651</td>\n",
       "      <td>8.6</td>\n",
       "    </tr>\n",
       "    <tr>\n",
       "      <th>5</th>\n",
       "      <td>6.9</td>\n",
       "      <td>205</td>\n",
       "      <td>0.449</td>\n",
       "      <td>0.9</td>\n",
       "      <td>23.2</td>\n",
       "    </tr>\n",
       "  </tbody>\n",
       "</table>\n",
       "</div>"
      ],
      "text/plain": [
       "  Height (ft) Weight (lbs) Successful Field Goals (%)  \\\n",
       "1         6.8          225                      0.442   \n",
       "2         6.3          180                      0.435   \n",
       "3         6.4          190                      0.456   \n",
       "4         6.2          180                      0.416   \n",
       "5         6.9          205                      0.449   \n",
       "\n",
       "  Successful Free Throws (%) Average Points Per Game  \n",
       "1                      0.672                     9.2  \n",
       "2                      0.797                    11.7  \n",
       "3                      0.761                    15.8  \n",
       "4                      0.651                     8.6  \n",
       "5                        0.9                    23.2  "
      ]
     },
     "execution_count": 57,
     "metadata": {},
     "output_type": "execute_result"
    }
   ],
   "source": [
    "basketball_data = pd.read_csv('basketball.csv', names=['Height (ft)', 'Weight (lbs)', 'Successful Field Goals (%)', 'Successful Free Throws (%)', 'Average Points Per Game'])\n",
    "basketball_data = basketball_data.tail(-1)\n",
    "basketball_data.head()"
   ]
  },
  {
   "cell_type": "code",
   "execution_count": 58,
   "id": "1f012c8f-c197-4643-9ba4-33e0676df883",
   "metadata": {},
   "outputs": [
    {
     "data": {
      "text/plain": [
       "Height (ft)                   object\n",
       "Weight (lbs)                  object\n",
       "Successful Field Goals (%)    object\n",
       "Successful Free Throws (%)    object\n",
       "Average Points Per Game       object\n",
       "dtype: object"
      ]
     },
     "execution_count": 58,
     "metadata": {},
     "output_type": "execute_result"
    }
   ],
   "source": [
    "basketball_data.dtypes"
   ]
  },
  {
   "cell_type": "code",
   "execution_count": 88,
   "id": "57cdda45-325d-45a7-b324-190bdd165975",
   "metadata": {
    "collapsed": true,
    "jupyter": {
     "outputs_hidden": true
    },
    "tags": []
   },
   "outputs": [
    {
     "data": {
      "text/plain": [
       "<bound method DataFrame.info of     Height (ft)  Weight (lbs)  Successful Field Goals (%)  \\\n",
       "1           6.8           225                       0.442   \n",
       "2           6.3           180                       0.435   \n",
       "3           6.4           190                       0.456   \n",
       "4           6.2           180                       0.416   \n",
       "5           6.9           205                       0.449   \n",
       "6           6.4           225                       0.431   \n",
       "7           6.3           185                       0.487   \n",
       "8           6.8           235                       0.469   \n",
       "9           6.9           235                       0.435   \n",
       "10          6.7           210                       0.480   \n",
       "11          6.9           245                       0.516   \n",
       "12          6.9           245                       0.493   \n",
       "13          6.3           185                       0.374   \n",
       "14          6.1           185                       0.424   \n",
       "15          6.2           180                       0.441   \n",
       "16          6.8           220                       0.503   \n",
       "17          6.5           194                       0.503   \n",
       "18          7.6           225                       0.425   \n",
       "19          6.3           210                       0.371   \n",
       "20          7.1           240                       0.504   \n",
       "21          6.8           225                       0.400   \n",
       "22          7.3           263                       0.482   \n",
       "23          6.4           210                       0.475   \n",
       "24          6.8           235                       0.428   \n",
       "25          7.2           230                       0.559   \n",
       "26          6.4           190                       0.441   \n",
       "27          6.6           220                       0.492   \n",
       "28          6.8           210                       0.402   \n",
       "29          6.1           180                       0.415   \n",
       "30          6.5           235                       0.492   \n",
       "31          6.4           185                       0.484   \n",
       "32          6.0           175                       0.387   \n",
       "33          6.0           192                       0.436   \n",
       "34          7.3           263                       0.482   \n",
       "35          6.1           180                       0.340   \n",
       "36          6.7           240                       0.516   \n",
       "37          6.4           210                       0.475   \n",
       "38          5.8           160                       0.412   \n",
       "39          6.9           230                       0.411   \n",
       "40          7.0           245                       0.407   \n",
       "41          7.3           228                       0.445   \n",
       "42          5.9           155                       0.291   \n",
       "43          6.2           200                       0.449   \n",
       "44          6.8           235                       0.546   \n",
       "45          7.0           235                       0.480   \n",
       "46          5.9           105                       0.359   \n",
       "47          6.1           180                       0.528   \n",
       "48          5.7           185                       0.352   \n",
       "49          7.1           245                       0.414   \n",
       "50          5.8           180                       0.425   \n",
       "51          7.4           240                       0.599   \n",
       "52          6.8           225                       0.482   \n",
       "53          6.8           215                       0.457   \n",
       "54          7.0           230                       0.435   \n",
       "\n",
       "    Successful Free Throws (%)  Average Points Per Game  \n",
       "1                        0.672                      9.2  \n",
       "2                        0.797                     11.7  \n",
       "3                        0.761                     15.8  \n",
       "4                        0.651                      8.6  \n",
       "5                        0.900                     23.2  \n",
       "6                        0.780                     27.4  \n",
       "7                        0.771                      9.3  \n",
       "8                        0.750                     16.0  \n",
       "9                        0.818                      4.7  \n",
       "10                       0.825                     12.5  \n",
       "11                       0.632                     20.1  \n",
       "12                       0.757                      9.1  \n",
       "13                       0.709                      8.1  \n",
       "14                       0.782                      8.6  \n",
       "15                       0.775                     20.3  \n",
       "16                       0.880                     25.0  \n",
       "17                       0.833                     19.2  \n",
       "18                       0.571                      3.3  \n",
       "19                       0.816                     11.2  \n",
       "20                       0.714                     10.5  \n",
       "21                       0.765                     10.1  \n",
       "22                       0.655                      7.2  \n",
       "23                       0.244                     13.6  \n",
       "24                       0.728                      9.0  \n",
       "25                       0.721                     24.6  \n",
       "26                       0.757                     12.6  \n",
       "27                       0.747                      5.6  \n",
       "28                       0.739                      8.7  \n",
       "29                       0.713                      7.7  \n",
       "30                       0.742                     24.1  \n",
       "31                       0.861                     11.7  \n",
       "32                       0.721                      7.7  \n",
       "33                       0.785                      9.6  \n",
       "34                       0.655                      7.2  \n",
       "35                       0.821                     12.3  \n",
       "36                       0.728                      8.9  \n",
       "37                       0.846                     13.6  \n",
       "38                       0.813                     11.2  \n",
       "39                       0.595                      2.8  \n",
       "40                       0.573                      3.2  \n",
       "41                       0.726                      9.4  \n",
       "42                       0.707                     11.9  \n",
       "43                       0.804                     15.4  \n",
       "44                       0.784                      7.4  \n",
       "45                       0.744                     18.9  \n",
       "46                       0.839                      7.9  \n",
       "47                       0.790                     12.2  \n",
       "48                       0.701                     11.0  \n",
       "49                       0.778                      2.8  \n",
       "50                       0.872                     11.8  \n",
       "51                       0.713                     17.1  \n",
       "52                       0.701                     11.6  \n",
       "53                       0.734                      5.8  \n",
       "54                       0.764                      8.3  >"
      ]
     },
     "execution_count": 88,
     "metadata": {},
     "output_type": "execute_result"
    }
   ],
   "source": [
    "basketball_data.info"
   ]
  },
  {
   "cell_type": "markdown",
   "id": "b03a898c-d593-4cf8-bee7-6f651b1f1f89",
   "metadata": {},
   "source": [
    "### Data Preprocessing"
   ]
  },
  {
   "cell_type": "code",
   "execution_count": 59,
   "id": "00db0ba3-cec5-4221-a1bb-768407736454",
   "metadata": {},
   "outputs": [
    {
     "data": {
      "text/plain": [
       "False"
      ]
     },
     "execution_count": 59,
     "metadata": {},
     "output_type": "execute_result"
    }
   ],
   "source": [
    "#check for any null or NaN values\n",
    "basketball_data.isnull().values.any()"
   ]
  },
  {
   "cell_type": "code",
   "execution_count": 60,
   "id": "d6c0a510-e7ae-4adb-8ca3-7c1555acac08",
   "metadata": {},
   "outputs": [],
   "source": [
    "#convert nonnumeric data to numeric data\n",
    "for column in basketball_data:\n",
    "    basketball_data[column] = pd.to_numeric(basketball_data[column])"
   ]
  },
  {
   "cell_type": "code",
   "execution_count": 61,
   "id": "47af21c4-1891-4e38-8801-c43e4db0b218",
   "metadata": {},
   "outputs": [
    {
     "data": {
      "text/plain": [
       "Height (ft)                   float64\n",
       "Weight (lbs)                    int64\n",
       "Successful Field Goals (%)    float64\n",
       "Successful Free Throws (%)    float64\n",
       "Average Points Per Game       float64\n",
       "dtype: object"
      ]
     },
     "execution_count": 61,
     "metadata": {},
     "output_type": "execute_result"
    }
   ],
   "source": [
    "basketball_data.dtypes"
   ]
  },
  {
   "cell_type": "markdown",
   "id": "4b338a3a-d19f-4bdb-8adf-c69b051bb5fb",
   "metadata": {},
   "source": [
    "### Linear Regression"
   ]
  },
  {
   "cell_type": "code",
   "execution_count": 62,
   "id": "9e7fd4b7-776a-4703-8bd8-3d965576ee07",
   "metadata": {},
   "outputs": [],
   "source": [
    "linreg = linear_model.LinearRegression()"
   ]
  },
  {
   "cell_type": "code",
   "execution_count": 63,
   "id": "d8448c3d-dcc1-487d-93aa-943c33cd485f",
   "metadata": {},
   "outputs": [],
   "source": [
    "#defining independent and dependent variables\n",
    "x = basketball_data.drop(['Average Points Per Game'],axis=1).values\n",
    "y = basketball_data['Average Points Per Game'].values"
   ]
  },
  {
   "cell_type": "code",
   "execution_count": 64,
   "id": "75fe1b30-8294-4a2f-8faf-06fd7dfbb5ba",
   "metadata": {},
   "outputs": [
    {
     "data": {
      "text/html": [
       "<style>#sk-container-id-4 {color: black;background-color: white;}#sk-container-id-4 pre{padding: 0;}#sk-container-id-4 div.sk-toggleable {background-color: white;}#sk-container-id-4 label.sk-toggleable__label {cursor: pointer;display: block;width: 100%;margin-bottom: 0;padding: 0.3em;box-sizing: border-box;text-align: center;}#sk-container-id-4 label.sk-toggleable__label-arrow:before {content: \"▸\";float: left;margin-right: 0.25em;color: #696969;}#sk-container-id-4 label.sk-toggleable__label-arrow:hover:before {color: black;}#sk-container-id-4 div.sk-estimator:hover label.sk-toggleable__label-arrow:before {color: black;}#sk-container-id-4 div.sk-toggleable__content {max-height: 0;max-width: 0;overflow: hidden;text-align: left;background-color: #f0f8ff;}#sk-container-id-4 div.sk-toggleable__content pre {margin: 0.2em;color: black;border-radius: 0.25em;background-color: #f0f8ff;}#sk-container-id-4 input.sk-toggleable__control:checked~div.sk-toggleable__content {max-height: 200px;max-width: 100%;overflow: auto;}#sk-container-id-4 input.sk-toggleable__control:checked~label.sk-toggleable__label-arrow:before {content: \"▾\";}#sk-container-id-4 div.sk-estimator input.sk-toggleable__control:checked~label.sk-toggleable__label {background-color: #d4ebff;}#sk-container-id-4 div.sk-label input.sk-toggleable__control:checked~label.sk-toggleable__label {background-color: #d4ebff;}#sk-container-id-4 input.sk-hidden--visually {border: 0;clip: rect(1px 1px 1px 1px);clip: rect(1px, 1px, 1px, 1px);height: 1px;margin: -1px;overflow: hidden;padding: 0;position: absolute;width: 1px;}#sk-container-id-4 div.sk-estimator {font-family: monospace;background-color: #f0f8ff;border: 1px dotted black;border-radius: 0.25em;box-sizing: border-box;margin-bottom: 0.5em;}#sk-container-id-4 div.sk-estimator:hover {background-color: #d4ebff;}#sk-container-id-4 div.sk-parallel-item::after {content: \"\";width: 100%;border-bottom: 1px solid gray;flex-grow: 1;}#sk-container-id-4 div.sk-label:hover label.sk-toggleable__label {background-color: #d4ebff;}#sk-container-id-4 div.sk-serial::before {content: \"\";position: absolute;border-left: 1px solid gray;box-sizing: border-box;top: 0;bottom: 0;left: 50%;z-index: 0;}#sk-container-id-4 div.sk-serial {display: flex;flex-direction: column;align-items: center;background-color: white;padding-right: 0.2em;padding-left: 0.2em;position: relative;}#sk-container-id-4 div.sk-item {position: relative;z-index: 1;}#sk-container-id-4 div.sk-parallel {display: flex;align-items: stretch;justify-content: center;background-color: white;position: relative;}#sk-container-id-4 div.sk-item::before, #sk-container-id-4 div.sk-parallel-item::before {content: \"\";position: absolute;border-left: 1px solid gray;box-sizing: border-box;top: 0;bottom: 0;left: 50%;z-index: -1;}#sk-container-id-4 div.sk-parallel-item {display: flex;flex-direction: column;z-index: 1;position: relative;background-color: white;}#sk-container-id-4 div.sk-parallel-item:first-child::after {align-self: flex-end;width: 50%;}#sk-container-id-4 div.sk-parallel-item:last-child::after {align-self: flex-start;width: 50%;}#sk-container-id-4 div.sk-parallel-item:only-child::after {width: 0;}#sk-container-id-4 div.sk-dashed-wrapped {border: 1px dashed gray;margin: 0 0.4em 0.5em 0.4em;box-sizing: border-box;padding-bottom: 0.4em;background-color: white;}#sk-container-id-4 div.sk-label label {font-family: monospace;font-weight: bold;display: inline-block;line-height: 1.2em;}#sk-container-id-4 div.sk-label-container {text-align: center;}#sk-container-id-4 div.sk-container {/* jupyter's `normalize.less` sets `[hidden] { display: none; }` but bootstrap.min.css set `[hidden] { display: none !important; }` so we also need the `!important` here to be able to override the default hidden behavior on the sphinx rendered scikit-learn.org. See: https://github.com/scikit-learn/scikit-learn/issues/21755 */display: inline-block !important;position: relative;}#sk-container-id-4 div.sk-text-repr-fallback {display: none;}</style><div id=\"sk-container-id-4\" class=\"sk-top-container\"><div class=\"sk-text-repr-fallback\"><pre>LinearRegression()</pre><b>In a Jupyter environment, please rerun this cell to show the HTML representation or trust the notebook. <br />On GitHub, the HTML representation is unable to render, please try loading this page with nbviewer.org.</b></div><div class=\"sk-container\" hidden><div class=\"sk-item\"><div class=\"sk-estimator sk-toggleable\"><input class=\"sk-toggleable__control sk-hidden--visually\" id=\"sk-estimator-id-4\" type=\"checkbox\" checked><label for=\"sk-estimator-id-4\" class=\"sk-toggleable__label sk-toggleable__label-arrow\">LinearRegression</label><div class=\"sk-toggleable__content\"><pre>LinearRegression()</pre></div></div></div></div></div>"
      ],
      "text/plain": [
       "LinearRegression()"
      ]
     },
     "execution_count": 64,
     "metadata": {},
     "output_type": "execute_result"
    }
   ],
   "source": [
    "linreg.fit(x,y)"
   ]
  },
  {
   "cell_type": "code",
   "execution_count": 72,
   "id": "9df3be41-fb70-4cfc-8d62-c64bfbb3ea60",
   "metadata": {
    "collapsed": true,
    "jupyter": {
     "outputs_hidden": true
    },
    "tags": []
   },
   "outputs": [
    {
     "data": {
      "text/plain": [
       "array([[ 9.2],\n",
       "       [11.7],\n",
       "       [15.8],\n",
       "       [ 8.6],\n",
       "       [23.2],\n",
       "       [27.4],\n",
       "       [ 9.3],\n",
       "       [16. ],\n",
       "       [ 4.7],\n",
       "       [12.5],\n",
       "       [20.1],\n",
       "       [ 9.1],\n",
       "       [ 8.1],\n",
       "       [ 8.6],\n",
       "       [20.3],\n",
       "       [25. ],\n",
       "       [19.2],\n",
       "       [ 3.3],\n",
       "       [11.2],\n",
       "       [10.5],\n",
       "       [10.1],\n",
       "       [ 7.2],\n",
       "       [13.6],\n",
       "       [ 9. ],\n",
       "       [24.6],\n",
       "       [12.6],\n",
       "       [ 5.6],\n",
       "       [ 8.7],\n",
       "       [ 7.7],\n",
       "       [24.1],\n",
       "       [11.7],\n",
       "       [ 7.7],\n",
       "       [ 9.6],\n",
       "       [ 7.2],\n",
       "       [12.3],\n",
       "       [ 8.9],\n",
       "       [13.6],\n",
       "       [11.2],\n",
       "       [ 2.8],\n",
       "       [ 3.2],\n",
       "       [ 9.4],\n",
       "       [11.9],\n",
       "       [15.4],\n",
       "       [ 7.4],\n",
       "       [18.9],\n",
       "       [ 7.9],\n",
       "       [12.2],\n",
       "       [11. ],\n",
       "       [ 2.8],\n",
       "       [11.8],\n",
       "       [17.1],\n",
       "       [11.6],\n",
       "       [ 5.8],\n",
       "       [ 8.3]])"
      ]
     },
     "execution_count": 72,
     "metadata": {},
     "output_type": "execute_result"
    }
   ],
   "source": [
    "x.reshape(-1,1)\n",
    "y.reshape(-1,1)"
   ]
  },
  {
   "cell_type": "code",
   "execution_count": 73,
   "id": "cc6ee4a5-c8c3-4f33-886b-919762e5f333",
   "metadata": {},
   "outputs": [
    {
     "data": {
      "text/plain": [
       "array([-3.69049908e+00,  9.45845788e-03,  4.79401992e+01,  1.13710193e+01])"
      ]
     },
     "execution_count": 73,
     "metadata": {},
     "output_type": "execute_result"
    }
   ],
   "source": [
    "#slopes for each independent var\n",
    "linreg.coef_"
   ]
  },
  {
   "cell_type": "code",
   "execution_count": 74,
   "id": "5f034602-4d9e-4051-90c7-b1c47b39683f",
   "metadata": {},
   "outputs": [
    {
     "data": {
      "text/plain": [
       "4.14870670628803"
      ]
     },
     "execution_count": 74,
     "metadata": {},
     "output_type": "execute_result"
    }
   ],
   "source": [
    "#y intercept\n",
    "linreg.intercept_"
   ]
  },
  {
   "cell_type": "code",
   "execution_count": 75,
   "id": "11ff0c67-f316-4264-bb77-3e6923c56064",
   "metadata": {},
   "outputs": [
    {
     "data": {
      "text/plain": [
       "array([12.84069605])"
      ]
     },
     "execution_count": 75,
     "metadata": {},
     "output_type": "execute_result"
    }
   ],
   "source": [
    "#predict ppg of player with \n",
    "linreg.predict([[6.4 , 190, .456, .761]])"
   ]
  },
  {
   "cell_type": "code",
   "execution_count": 108,
   "id": "6883cb4a-2c44-4ef6-85be-ecbf7204198f",
   "metadata": {},
   "outputs": [],
   "source": [
    "#split data into training and testing sets\n",
    "x_train,x_test,y_train,y_test = train_test_split(x,y,test_size=.3,random_state=0)"
   ]
  },
  {
   "cell_type": "code",
   "execution_count": 109,
   "id": "4421d5a2-75f2-4e18-93f4-e6a019328ec3",
   "metadata": {},
   "outputs": [
    {
     "data": {
      "text/html": [
       "<style>#sk-container-id-10 {color: black;background-color: white;}#sk-container-id-10 pre{padding: 0;}#sk-container-id-10 div.sk-toggleable {background-color: white;}#sk-container-id-10 label.sk-toggleable__label {cursor: pointer;display: block;width: 100%;margin-bottom: 0;padding: 0.3em;box-sizing: border-box;text-align: center;}#sk-container-id-10 label.sk-toggleable__label-arrow:before {content: \"▸\";float: left;margin-right: 0.25em;color: #696969;}#sk-container-id-10 label.sk-toggleable__label-arrow:hover:before {color: black;}#sk-container-id-10 div.sk-estimator:hover label.sk-toggleable__label-arrow:before {color: black;}#sk-container-id-10 div.sk-toggleable__content {max-height: 0;max-width: 0;overflow: hidden;text-align: left;background-color: #f0f8ff;}#sk-container-id-10 div.sk-toggleable__content pre {margin: 0.2em;color: black;border-radius: 0.25em;background-color: #f0f8ff;}#sk-container-id-10 input.sk-toggleable__control:checked~div.sk-toggleable__content {max-height: 200px;max-width: 100%;overflow: auto;}#sk-container-id-10 input.sk-toggleable__control:checked~label.sk-toggleable__label-arrow:before {content: \"▾\";}#sk-container-id-10 div.sk-estimator input.sk-toggleable__control:checked~label.sk-toggleable__label {background-color: #d4ebff;}#sk-container-id-10 div.sk-label input.sk-toggleable__control:checked~label.sk-toggleable__label {background-color: #d4ebff;}#sk-container-id-10 input.sk-hidden--visually {border: 0;clip: rect(1px 1px 1px 1px);clip: rect(1px, 1px, 1px, 1px);height: 1px;margin: -1px;overflow: hidden;padding: 0;position: absolute;width: 1px;}#sk-container-id-10 div.sk-estimator {font-family: monospace;background-color: #f0f8ff;border: 1px dotted black;border-radius: 0.25em;box-sizing: border-box;margin-bottom: 0.5em;}#sk-container-id-10 div.sk-estimator:hover {background-color: #d4ebff;}#sk-container-id-10 div.sk-parallel-item::after {content: \"\";width: 100%;border-bottom: 1px solid gray;flex-grow: 1;}#sk-container-id-10 div.sk-label:hover label.sk-toggleable__label {background-color: #d4ebff;}#sk-container-id-10 div.sk-serial::before {content: \"\";position: absolute;border-left: 1px solid gray;box-sizing: border-box;top: 0;bottom: 0;left: 50%;z-index: 0;}#sk-container-id-10 div.sk-serial {display: flex;flex-direction: column;align-items: center;background-color: white;padding-right: 0.2em;padding-left: 0.2em;position: relative;}#sk-container-id-10 div.sk-item {position: relative;z-index: 1;}#sk-container-id-10 div.sk-parallel {display: flex;align-items: stretch;justify-content: center;background-color: white;position: relative;}#sk-container-id-10 div.sk-item::before, #sk-container-id-10 div.sk-parallel-item::before {content: \"\";position: absolute;border-left: 1px solid gray;box-sizing: border-box;top: 0;bottom: 0;left: 50%;z-index: -1;}#sk-container-id-10 div.sk-parallel-item {display: flex;flex-direction: column;z-index: 1;position: relative;background-color: white;}#sk-container-id-10 div.sk-parallel-item:first-child::after {align-self: flex-end;width: 50%;}#sk-container-id-10 div.sk-parallel-item:last-child::after {align-self: flex-start;width: 50%;}#sk-container-id-10 div.sk-parallel-item:only-child::after {width: 0;}#sk-container-id-10 div.sk-dashed-wrapped {border: 1px dashed gray;margin: 0 0.4em 0.5em 0.4em;box-sizing: border-box;padding-bottom: 0.4em;background-color: white;}#sk-container-id-10 div.sk-label label {font-family: monospace;font-weight: bold;display: inline-block;line-height: 1.2em;}#sk-container-id-10 div.sk-label-container {text-align: center;}#sk-container-id-10 div.sk-container {/* jupyter's `normalize.less` sets `[hidden] { display: none; }` but bootstrap.min.css set `[hidden] { display: none !important; }` so we also need the `!important` here to be able to override the default hidden behavior on the sphinx rendered scikit-learn.org. See: https://github.com/scikit-learn/scikit-learn/issues/21755 */display: inline-block !important;position: relative;}#sk-container-id-10 div.sk-text-repr-fallback {display: none;}</style><div id=\"sk-container-id-10\" class=\"sk-top-container\"><div class=\"sk-text-repr-fallback\"><pre>LinearRegression()</pre><b>In a Jupyter environment, please rerun this cell to show the HTML representation or trust the notebook. <br />On GitHub, the HTML representation is unable to render, please try loading this page with nbviewer.org.</b></div><div class=\"sk-container\" hidden><div class=\"sk-item\"><div class=\"sk-estimator sk-toggleable\"><input class=\"sk-toggleable__control sk-hidden--visually\" id=\"sk-estimator-id-10\" type=\"checkbox\" checked><label for=\"sk-estimator-id-10\" class=\"sk-toggleable__label sk-toggleable__label-arrow\">LinearRegression</label><div class=\"sk-toggleable__content\"><pre>LinearRegression()</pre></div></div></div></div></div>"
      ],
      "text/plain": [
       "LinearRegression()"
      ]
     },
     "execution_count": 109,
     "metadata": {},
     "output_type": "execute_result"
    }
   ],
   "source": [
    "linreg.fit(x_train,y_train)"
   ]
  },
  {
   "cell_type": "code",
   "execution_count": 110,
   "id": "00aa93b3-07ee-4b60-b8ec-f64d2ed48283",
   "metadata": {},
   "outputs": [],
   "source": [
    "#predict results!\n",
    "y_pred = linreg.predict(x_test)"
   ]
  },
  {
   "cell_type": "code",
   "execution_count": 111,
   "id": "f2008326-ad1e-46c1-8483-be9dce29ba0f",
   "metadata": {},
   "outputs": [
    {
     "data": {
      "text/plain": [
       "array([ 8.3,  7.2,  2.8,  5.6,  9.1, 15.8,  9.6, 15.4,  7.9, 11.7, 23.2,\n",
       "       20.1,  7.7, 13.6,  7.7,  2.8, 11.2])"
      ]
     },
     "execution_count": 111,
     "metadata": {},
     "output_type": "execute_result"
    }
   ],
   "source": [
    "y_test"
   ]
  },
  {
   "cell_type": "code",
   "execution_count": 112,
   "id": "36512da3-a5ec-4846-9ab7-d4cd78a5f397",
   "metadata": {},
   "outputs": [
    {
     "data": {
      "text/plain": [
       "-0.19230013005292657"
      ]
     },
     "execution_count": 112,
     "metadata": {},
     "output_type": "execute_result"
    }
   ],
   "source": [
    "#evaluate model\n",
    "r2_score(y_test,y_pred)"
   ]
  },
  {
   "cell_type": "code",
   "execution_count": 113,
   "id": "ef6db983-987a-4765-a3a2-755fc60a7b6b",
   "metadata": {},
   "outputs": [
    {
     "data": {
      "text/plain": [
       "-0.19230013005292657"
      ]
     },
     "execution_count": 113,
     "metadata": {},
     "output_type": "execute_result"
    }
   ],
   "source": [
    "#check accuracy of model [0 - 1] (higher score => better model\n",
    "linreg.score(x_test,y_test)"
   ]
  }
 ],
 "metadata": {
  "kernelspec": {
   "display_name": "Python 3 (ipykernel)",
   "language": "python",
   "name": "python3"
  },
  "language_info": {
   "codemirror_mode": {
    "name": "ipython",
    "version": 3
   },
   "file_extension": ".py",
   "mimetype": "text/x-python",
   "name": "python",
   "nbconvert_exporter": "python",
   "pygments_lexer": "ipython3",
   "version": "3.9.13"
  }
 },
 "nbformat": 4,
 "nbformat_minor": 5
}
